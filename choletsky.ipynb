{
 "cells": [
  {
   "cell_type": "code",
   "execution_count": 4,
   "id": "96449530",
   "metadata": {},
   "outputs": [
    {
     "name": "stdout",
     "output_type": "stream",
     "text": [
      "введите матрицу:\n",
      "строка 1: 81 -45 45\n",
      "строка 2: -45 50 -15\n",
      "строка 3: 45 -15 38\n",
      "Введите столбец свободных членов: 531 -460 193\n",
      "[ 6. -5. -4.]\n"
     ]
    }
   ],
   "source": [
    "import numpy as np\n",
    "\n",
    "n = 3\n",
    "print(\"введите матрицу:\")\n",
    "A = [list(map(float, (input(f\"строка {i+1}: \").split()))) for i in range(n)]\n",
    "B = map(float, input(\"Введите столбец свободных членов: \").split())\n",
    "B = list(B)\n",
    "L = np.zeros((3,3))\n",
    "L[0][0]=(A[0][0])**(1/2)\n",
    "L[1][0]=A[1][0]/L[0][0]\n",
    "L[2][0]=A[2][0]/L[0][0]\n",
    "L[1][1]=(A[1][1]-L[1][0]**2)**(1/2)\n",
    "L[2][1]=(A[2][1]-L[1][0]*L[2][0])/L[1][1]\n",
    "L[2][2]=(A[2][2]-L[2][0]**2-L[2][1]**2)**(1/2)\n",
    "\n",
    "Ly=np.linalg.inv(L)\n",
    "Y=np.matmul(Ly, B) \n",
    "Lt=L.transpose()\n",
    "Lx=np.linalg.inv(Lt)\n",
    "X=np.matmul(Lx, Y)\n",
    "\n",
    "print (X)"
   ]
  },
  {
   "cell_type": "code",
   "execution_count": null,
   "id": "70f1cc1c",
   "metadata": {},
   "outputs": [],
   "source": []
  },
  {
   "cell_type": "code",
   "execution_count": null,
   "id": "fe0b63f9",
   "metadata": {},
   "outputs": [],
   "source": []
  }
 ],
 "metadata": {
  "kernelspec": {
   "display_name": "Python 3 (ipykernel)",
   "language": "python",
   "name": "python3"
  },
  "language_info": {
   "codemirror_mode": {
    "name": "ipython",
    "version": 3
   },
   "file_extension": ".py",
   "mimetype": "text/x-python",
   "name": "python",
   "nbconvert_exporter": "python",
   "pygments_lexer": "ipython3",
   "version": "3.9.7"
  }
 },
 "nbformat": 4,
 "nbformat_minor": 5
}
