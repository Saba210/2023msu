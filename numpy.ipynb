{
 "cells": [
  {
   "cell_type": "code",
   "execution_count": 4,
   "id": "dfa79836",
   "metadata": {},
   "outputs": [
    {
     "name": "stdout",
     "output_type": "stream",
     "text": [
      "введите число строк: 3\n",
      "введите матрицу:\n",
      "строка 1: 1 2 3\n",
      "строка 2: 3 2 5\n",
      "строка 3: 7 6 4\n",
      "Введите столбец свободных членов: 1 1 1\n",
      "[-0.22222222  0.27777778  0.22222222]\n"
     ]
    }
   ],
   "source": [
    "import numpy as np\n",
    "Arows = int(input(\"введите число строк: \"))  \n",
    "print(\"введите матрицу:\")\n",
    "A = [list(map(float, (input(f\"строка {i+1}: \").split()))) for i in range(Arows)]\n",
    "B = map(float, input(\"Введите столбец свободных членов: \").split())\n",
    "B = list(B)\n",
    "C = np.linalg.solve(A, B)\n",
    "print(C)"
   ]
  },
  {
   "cell_type": "code",
   "execution_count": null,
   "id": "26cc85bd",
   "metadata": {},
   "outputs": [],
   "source": []
  }
 ],
 "metadata": {
  "kernelspec": {
   "display_name": "Python 3 (ipykernel)",
   "language": "python",
   "name": "python3"
  },
  "language_info": {
   "codemirror_mode": {
    "name": "ipython",
    "version": 3
   },
   "file_extension": ".py",
   "mimetype": "text/x-python",
   "name": "python",
   "nbconvert_exporter": "python",
   "pygments_lexer": "ipython3",
   "version": "3.9.7"
  }
 },
 "nbformat": 4,
 "nbformat_minor": 5
}
