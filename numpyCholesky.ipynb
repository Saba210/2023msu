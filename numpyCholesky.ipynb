{
 "cells": [
  {
   "cell_type": "code",
   "execution_count": 1,
   "id": "a90723af",
   "metadata": {},
   "outputs": [
    {
     "name": "stdout",
     "output_type": "stream",
     "text": [
      "введите число строк: 3\n",
      "введите матрицу:\n",
      "строка 1: 81 -45 45\n",
      "строка 2: -45 50 -15\n",
      "строка 3: 45 -15 38\n",
      "Введите столбец свободных членов: 531 -460 193\n",
      "[ 6. -5. -4.]\n"
     ]
    }
   ],
   "source": [
    "import numpy as np\n",
    "from time import time\n",
    "from scipy.linalg import solve_triangular\n",
    "Arows = int(input(\"введите число строк: \"))  \n",
    "print(\"введите матрицу:\")\n",
    "A = [list(map(float, (input(f\"строка {i+1}: \").split()))) for i in range(Arows)]\n",
    "B = map(float, input(\"Введите столбец свободных членов: \").split())\n",
    "B = list(B)\n",
    "tic = time() #Разложение Холецкого\n",
    "for i in range(10000):\n",
    "    L = np.linalg.cholesky(A)\n",
    "    Y = solve_triangular(L, B, lower = True, check_finite = False)\n",
    "    X = solve_triangular(L, Y, lower = True, trans = 1, check_finite = False)\n",
    "toc = time()\n",
    "print(X)"
   ]
  },
  {
   "cell_type": "code",
   "execution_count": null,
   "id": "39216c0d",
   "metadata": {},
   "outputs": [],
   "source": []
  }
 ],
 "metadata": {
  "kernelspec": {
   "display_name": "Python 3 (ipykernel)",
   "language": "python",
   "name": "python3"
  },
  "language_info": {
   "codemirror_mode": {
    "name": "ipython",
    "version": 3
   },
   "file_extension": ".py",
   "mimetype": "text/x-python",
   "name": "python",
   "nbconvert_exporter": "python",
   "pygments_lexer": "ipython3",
   "version": "3.9.7"
  }
 },
 "nbformat": 4,
 "nbformat_minor": 5
}
