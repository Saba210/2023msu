{
 "cells": [
  {
   "cell_type": "markdown",
   "id": "f4080a98",
   "metadata": {},
   "source": [
    "#                       Курсовая работа"
   ]
  },
  {
   "cell_type": "markdown",
   "id": "5b7af5d3",
   "metadata": {},
   "source": [
    "## Часть 1. Метод наименьших квадратов"
   ]
  },
  {
   "cell_type": "markdown",
   "id": "73e34fee",
   "metadata": {},
   "source": [
    "В МНК наша задача: подобрать параметры функциональной зависимости так, чтобы она наилучшим образом описывала экспериментальные данные  Например, для линейной функции достаточно определить два параметра k и b, чтобы построить аппроксимацию (приближение) линейного графика к экспериментальным зависимостям."
   ]
  },
  {
   "cell_type": "markdown",
   "id": "743b9ad8",
   "metadata": {},
   "source": [
    "Cчитаем данные из excel листа и выведем их."
   ]
  },
  {
   "cell_type": "code",
   "execution_count": 1,
   "id": "8132062c",
   "metadata": {},
   "outputs": [
    {
     "name": "stdout",
     "output_type": "stream",
     "text": [
      "[0, 10, 20, 24, 30, 47, 50, 71, 75, 94, 100, 125, 140, 150, 189, 200, 250, 282, 300, 379, 400, 500, 565, 600, 700, 800, 840, 900]\n",
      "[10.1, 9.89, 9.75, 9.69, 9.52, 9.06, 9.04, 8.92, 8.83, 8.37, 8.26, 7.85, 7.64, 7.5, 6.98, 6.85, 6.32, 6.05, 5.95, 5.6, 5.5, 5.02, 4.74, 4.62, 4.33, 4.08, 3.99, 3.85]\n"
     ]
    }
   ],
   "source": [
    "import pandas as pd\n",
    "import numpy as np\n",
    "import matplotlib.pyplot as plt\n",
    "data = pd.read_excel('/Users/sabinabekkieva/Desktop/МНК.xlsx')\n",
    "x = data.iloc[:,0].tolist()\n",
    "y = data.iloc[:,1].tolist()\n",
    "print(x)\n",
    "print(y)"
   ]
  },
  {
   "cell_type": "markdown",
   "id": "3a241340",
   "metadata": {},
   "source": [
    "Найдем параметры апроксимирующей функции, а именно в виде y = kx+b"
   ]
  },
  {
   "cell_type": "code",
   "execution_count": 2,
   "id": "e788ca26",
   "metadata": {},
   "outputs": [],
   "source": [
    "def MNK(x, y):\n",
    "    c1 = np.sum(np.dot(x, x))\n",
    "    c2 = np.sum(x)\n",
    "    c3 = np.sum(np.dot(x, y))\n",
    "    d1 = c2\n",
    "    d2 = len(x)\n",
    "    d3 = np.sum(y)\n",
    "    A = np.array([[c1, c2], [d1, d2]])\n",
    "    B = np.array([[c3],[d3]])\n",
    "    E = np.linalg.solve(A, B)\n",
    "    k = E[0,0]\n",
    "    b = E[1,0]\n",
    "    return(k, b)\n",
    "k, b = MNK(x, y)"
   ]
  },
  {
   "cell_type": "markdown",
   "id": "9842d667",
   "metadata": {},
   "source": [
    "По посчитанным параметрам построим график полученной функции с помощью matplotlib"
   ]
  },
  {
   "cell_type": "code",
   "execution_count": 3,
   "id": "a3823adf",
   "metadata": {},
   "outputs": [
    {
     "data": {
      "image/png": "[encoded data removed]",
      "text/plain": [
       "<Figure size 432x288 with 1 Axes>"
      ]
     },
     "metadata": {
      "needs_background": "light"
     },
     "output_type": "display_data"
    }
   ],
   "source": [
    "fig = plt.figure()\n",
    "kx = fig.add_subplot(111)\n",
    "kx.set_xlim([-100, 1200])\n",
    "kx.set_ylim([2, 13])\n",
    "c = np.arange(-100, 1000, 1)\n",
    "plt.scatter(x, y)\n",
    "plt.plot(k*c+b, color = 'purple')\n",
    "plt.xlabel(r'$x$') #подпись осей\n",
    "plt.ylabel(r'$y$')\n",
    "plt.grid(True)\n",
    "plt.show()"
   ]
  },
  {
   "cell_type": "markdown",
   "id": "ac00b2e0",
   "metadata": {},
   "source": [
    "## Часть 2. Метод Лангранжа"
   ]
  },
  {
   "cell_type": "markdown",
   "id": "e95c37b8",
   "metadata": {},
   "source": [
    "В данной части курсовой работе мы строим интерполяционный многочлен Лагранжа, то есть многочлен минимальной степени, принимающий заданные значения в заданном наборе точек, получается нам нужно решить задачу интерполяции."
   ]
  },
  {
   "cell_type": "markdown",
   "id": "08ef6cbc",
   "metadata": {},
   "source": [
    "Cначала считаем данные из excel листа и выведем их."
   ]
  },
  {
   "cell_type": "code",
   "execution_count": 4,
   "id": "5f2886f3",
   "metadata": {},
   "outputs": [
    {
     "name": "stdout",
     "output_type": "stream",
     "text": [
      "[233.0, 232.5, 232.8, 234.1, 234.0, 233.0, 231.0, 228.5, 220.1, 218.6, 211.2, 204.5, 198.2, 178.3, 176.7, 173.6, 166.8, 158.9, 155.7, 139.6, 135.4, 122.4, 114.0, 113.9, 107.8, 101.5, 95.4]\n",
      "[0, 8, 10, 19, 20, 39, 50, 58, 75, 78, 101, 118, 126, 151, 153, 201, 252, 287, 302, 376, 403, 504, 603, 605, 706, 807, 904]\n"
     ]
    }
   ],
   "source": [
    "import pandas as pd\n",
    "import numpy as np\n",
    "import matplotlib.pyplot as plt\n",
    "data = pd.read_excel('/Users/sabinabekkieva/Desktop/lagrange.xlsx')\n",
    "data = data.dropna()\n",
    "x = data.iloc[:,0].tolist()\n",
    "y = data.iloc[:,1].tolist()\n",
    "print(x)\n",
    "print(y)"
   ]
  },
  {
   "cell_type": "markdown",
   "id": "22e44102",
   "metadata": {},
   "source": [
    "Напишем функцию, строящую интерполяционный многочлен Лангранжа"
   ]
  },
  {
   "cell_type": "code",
   "execution_count": 5,
   "id": "4e69868c",
   "metadata": {},
   "outputs": [],
   "source": [
    "def create_polynom(x, i):\n",
    "    def polynom(X):\n",
    "        divider = 1\n",
    "        result = 1\n",
    "        for j in range(len(x)):\n",
    "            if j != i:\n",
    "                result *= (X-x[j])\n",
    "                divider *= (x[i]-x[j])\n",
    "            if divider == 0:\n",
    "                divider = 1\n",
    "        return result/divider\n",
    "    return polynom\n",
    "\n",
    "def create_Lagrange_polynom(x, y):\n",
    "    polynom = []\n",
    "    for i in range(len(x)):\n",
    "        polynom.append(create_polynom(x, i))\n",
    "\n",
    "    def lagrange_polynom(X):\n",
    "        result = 0\n",
    "        for i in range(len(y)):\n",
    "            result += y[i]*polynom[i](X)\n",
    "        return result\n",
    "    return lagrange_polynom\n",
    "lag_pol = create_Lagrange_polynom(x, y)"
   ]
  },
  {
   "cell_type": "markdown",
   "id": "ac256daf",
   "metadata": {},
   "source": [
    "По посчитанным параметрам изобразим полученный многочлен с помощью matplotlib"
   ]
  },
  {
   "cell_type": "code",
   "execution_count": 6,
   "id": "e29a1b43",
   "metadata": {
    "scrolled": true
   },
   "outputs": [
    {
     "data": {
      "image/png": "[encoded data removed]",
      "text/plain": [
       "<Figure size 432x288 with 1 Axes>"
      ]
     },
     "metadata": {
      "needs_background": "light"
     },
     "output_type": "display_data"
    }
   ],
   "source": [
    "fig = plt.figure()\n",
    "ax = fig.add_subplot(111)\n",
    "ax.set_xlim([90, 250])\n",
    "ax.set_ylim([0, 950])\n",
    "plt.scatter(x, y) \n",
    "c = np.arange(0, 260, 1)\n",
    "plt.plot(lag_pol(c))\n",
    "plt.xlabel(r'$x$')\n",
    "plt.ylabel(r'$y$')\n",
    "plt.grid(True)\n",
    "plt.show()"
   ]
  },
  {
   "cell_type": "markdown",
   "id": "f6cec264",
   "metadata": {},
   "source": [
    "## Вывод"
   ]
  },
  {
   "cell_type": "markdown",
   "id": "681ce458",
   "metadata": {},
   "source": [
    "Python имеет множество библиотек, с помощью которых легко и быстро можно решать различные задачи. "
   ]
  },
  {
   "cell_type": "code",
   "execution_count": null,
   "id": "bcdc4f9c",
   "metadata": {},
   "outputs": [],
   "source": []
  }
 ],
 "metadata": {
  "kernelspec": {
   "display_name": "Python 3 (ipykernel)",
   "language": "python",
   "name": "python3"
  },
  "language_info": {
   "codemirror_mode": {
    "name": "ipython",
    "version": 3
   },
   "file_extension": ".py",
   "mimetype": "text/x-python",
   "name": "python",
   "nbconvert_exporter": "python",
   "pygments_lexer": "ipython3",
   "version": "3.9.7"
  }
 },
 "nbformat": 4,
 "nbformat_minor": 5
}
