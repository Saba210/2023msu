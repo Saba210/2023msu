{
 "cells": [
  {
   "cell_type": "code",
   "execution_count": 3,
   "id": "2ef08f18",
   "metadata": {},
   "outputs": [],
   "source": [
    "from tkinter import *\n",
    "from tkinter import messagebox\n",
    "from math import *\n",
    "\n",
    "\n",
    "def my_action():\n",
    "    \n",
    "    frm = int(e1.get())\n",
    "    to   = int(e2.get())\n",
    "    fill = 'red'\n",
    "    if var.get() == 0:\n",
    "        fill = 'red'\n",
    "    elif var.get() == 1:\n",
    "        fill = 'purple'\n",
    "    elif var.get() == 2:\n",
    "        fill = 'green'\n",
    "    for i in range( frm, to):\n",
    "        canvas.create_line(i,10*sin(i)+150, i+1, 10*sin(i)+150, fill= fill , width=10)\n",
    "\n",
    "        \n",
    "master = Tk()\n",
    "master.title('Рисуем')\n",
    "\n",
    "\n",
    "\n",
    "canvas = Canvas(master, width=800, height=400, background='blue')\n",
    "canvas.grid(column=0, row=1)\n",
    "\n",
    "\n",
    "\n",
    "l1 = Label(master, text='t0')\n",
    "l1.grid(row=2, column=0, sticky='e')\n",
    "l2 = Label(master, text='t1')\n",
    "l2.grid(row=3, column=0, sticky='e')\n",
    "\n",
    "e1 = Entry(master)\n",
    "e2 = Entry(master)\n",
    "e1.grid(row=2, column=1)\n",
    "e2.grid(row=3, column=1)\n",
    "\n",
    " \n",
    "\n",
    "var = IntVar()\n",
    "var.set(0)\n",
    "redbutton = Radiobutton(master, text = 'Red', fg ='red', variable=var, value= 0)\n",
    "redbutton.grid(row=4, column=1)\n",
    "purplebutton = Radiobutton(master, text = 'Purple', fg='purple', variable=var, value= 1)\n",
    "purplebutton.grid(row=5, column=1)\n",
    "greenbutton = Radiobutton(master, text ='Green', fg ='green', variable=var, value= 2)\n",
    "greenbutton.grid(row=6, column=1)\n",
    "\n",
    "\n",
    "b1 = Button(master, text=\"Draw!\", command = my_action)\n",
    "b1.grid(row=8, column = 1)"
   ]
  },
  {
   "cell_type": "code",
   "execution_count": null,
   "id": "0f83debe",
   "metadata": {},
   "outputs": [],
   "source": []
  },
  {
   "cell_type": "code",
   "execution_count": null,
   "id": "0aca8bf7",
   "metadata": {},
   "outputs": [],
   "source": []
  },
  {
   "cell_type": "code",
   "execution_count": null,
   "id": "a2492c03",
   "metadata": {},
   "outputs": [],
   "source": []
  },
  {
   "cell_type": "code",
   "execution_count": null,
   "id": "408be3e9",
   "metadata": {},
   "outputs": [],
   "source": []
  }
 ],
 "metadata": {
  "kernelspec": {
   "display_name": "Python 3 (ipykernel)",
   "language": "python",
   "name": "python3"
  },
  "language_info": {
   "codemirror_mode": {
    "name": "ipython",
    "version": 3
   },
   "file_extension": ".py",
   "mimetype": "text/x-python",
   "name": "python",
   "nbconvert_exporter": "python",
   "pygments_lexer": "ipython3",
   "version": "3.9.7"
  }
 },
 "nbformat": 4,
 "nbformat_minor": 5
}
